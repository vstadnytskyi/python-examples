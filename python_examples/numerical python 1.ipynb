{
 "cells": [
  {
   "cell_type": "markdown",
   "id": "3be88569",
   "metadata": {},
   "source": [
    "# Numerical Python\n",
    "\n",
    "in this post, I would like to introduce numerical python (NumPy) library, go through several example and provide few tips and tricks on how to work with images.\n",
    "\n",
    "You need to know basic understanding of vectors and matrices, preinstalled python and pip.\n",
    "\n",
    "You will need to install:\n",
    "- numpy - numerical python\n",
    "- matplotlib - plotting library for visualization\n",
    "\n",
    "to install all needed libraries please run \"pip install numpy matplotlib\" in your terminal.\n",
    "\n",
    "All examples in this file are OS independent, hence work on Linux, Windows, MacOS."
   ]
  },
  {
   "cell_type": "code",
   "execution_count": null,
   "id": "eb793d2a",
   "metadata": {},
   "outputs": [],
   "source": []
  }
 ],
 "metadata": {
  "kernelspec": {
   "display_name": "Python 3 (ipykernel)",
   "language": "python",
   "name": "python3"
  },
  "language_info": {
   "codemirror_mode": {
    "name": "ipython",
    "version": 3
   },
   "file_extension": ".py",
   "mimetype": "text/x-python",
   "name": "python",
   "nbconvert_exporter": "python",
   "pygments_lexer": "ipython3",
   "version": "3.8.8rc1"
  }
 },
 "nbformat": 4,
 "nbformat_minor": 5
}
