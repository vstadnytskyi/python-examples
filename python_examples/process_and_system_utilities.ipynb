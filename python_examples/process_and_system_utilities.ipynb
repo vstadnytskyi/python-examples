{
 "cells": [
  {
   "cell_type": "markdown",
   "id": "e9e51a9e",
   "metadata": {},
   "source": [
    "# Process and system utilities\n",
    "\n",
    "In this post, I would like to go over a useful library that can be used to interact with process and system utilities, and extract useful information about current state of CPU, memory usage, etc.\n",
    "\n",
    "https://psutil.readthedocs.io/en/latest/\n",
    "\n",
    "pip install psutil\n",
    "\n",
    "Please check documentation for each function used. In jupyter notebook and ipython, you can get information executing a cell with \"psutil.cpu_percent?\", you willget a corresponding doc-string. \n",
    "\n",
    "Auxiliary libraries needed for this example\n",
    "\n",
    "- ubcs_auxiliary - my personal library with auxiliary functions. to install \"pip install ubcs_auxiliary\"|\n"
   ]
  },
  {
   "cell_type": "code",
   "execution_count": 35,
   "id": "dff58495",
   "metadata": {},
   "outputs": [],
   "source": [
    "import psutil"
   ]
  },
  {
   "cell_type": "code",
   "execution_count": 36,
   "id": "5da61666",
   "metadata": {},
   "outputs": [
    {
     "name": "stdout",
     "output_type": "stream",
     "text": [
      "Current CPU usage\n"
     ]
    },
    {
     "data": {
      "text/plain": [
       "3.8"
      ]
     },
     "execution_count": 36,
     "metadata": {},
     "output_type": "execute_result"
    }
   ],
   "source": [
    "# Return a float representing the current system-wide CPU utilization as a percentage.\n",
    "print('Current CPU usage')\n",
    "psutil.cpu_percent() \n"
   ]
  },
  {
   "cell_type": "code",
   "execution_count": 37,
   "id": "7d1ce95a",
   "metadata": {},
   "outputs": [
    {
     "name": "stdout",
     "output_type": "stream",
     "text": [
      "Current battery charge level\n"
     ]
    },
    {
     "data": {
      "text/plain": [
       "100"
      ]
     },
     "execution_count": 37,
     "metadata": {},
     "output_type": "execute_result"
    }
   ],
   "source": [
    "print('Current battery charge level')\n",
    "psutil.sensors_battery().percent"
   ]
  },
  {
   "cell_type": "code",
   "execution_count": 38,
   "id": "2dd5049d",
   "metadata": {},
   "outputs": [],
   "source": []
  },
  {
   "cell_type": "code",
   "execution_count": null,
   "id": "b69d5992",
   "metadata": {},
   "outputs": [],
   "source": []
  }
 ],
 "metadata": {
  "kernelspec": {
   "display_name": "Python 3 (ipykernel)",
   "language": "python",
   "name": "python3"
  },
  "language_info": {
   "codemirror_mode": {
    "name": "ipython",
    "version": 3
   },
   "file_extension": ".py",
   "mimetype": "text/x-python",
   "name": "python",
   "nbconvert_exporter": "python",
   "pygments_lexer": "ipython3",
   "version": "3.8.8rc1"
  }
 },
 "nbformat": 4,
 "nbformat_minor": 5
}
